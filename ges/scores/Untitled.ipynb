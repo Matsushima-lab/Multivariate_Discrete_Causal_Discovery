{
 "cells": [
  {
   "cell_type": "code",
   "execution_count": 1,
   "id": "9e977ae2",
   "metadata": {},
   "outputs": [],
   "source": [
    "import sys\n",
    "import numpy as np\n",
    "import math \n",
    "from sklearn.preprocessing import LabelEncoder\n",
    "from collections import Counter, defaultdict\n",
    "import itertools\n",
    "\n",
    "from decomposable_score import DecomposableScore\n",
    "\n",
    "class NmlPen(DecomposableScore):\n",
    "    def __init__(self, data, cache=True, debug=0):\n",
    "        \"\"\" Cretes a new instance of the class.      \n",
    "\n",
    "        Parameters\n",
    "        ----------\n",
    "\n",
    "        \"\"\"\n",
    "\n",
    "        super().__init__(data, cache=cache, debug=debug)\n",
    "\n",
    "        self.data = data\n",
    "        self.n, self.p = data.shape\n",
    "        for i in range(self.p):\n",
    "            le_X = LabelEncoder()\n",
    "            self.data[:, i] = le_X.fit_transform(self.data[:, i])\n",
    "\n",
    "    def full_score(self, A):\n",
    "        \"\"\" Given a DAG adjacency A, return nml-penalized log-likelihood of a sample\n",
    "\n",
    "        Parameters\n",
    "        ----------\n",
    "        A : np.array\n",
    "            The adjacency matrix of a DAG, where A[i,j] != 0 => i -> j.\n",
    "\n",
    "        Returns\n",
    "        -------\n",
    "\n",
    "        \"\"\"\n",
    "        score = 0\n",
    "        for j in range(self.p):\n",
    "            parents = np.where(A[:, j] != 0)[0]\n",
    "            score += self._compute_local_score(j, parents)\n",
    "        return score\n",
    "\n",
    "    def _compute_local_score(self, x, pa):\n",
    "        \"\"\" Given a node and its parents, return nml-penalized log-likelihood\n",
    "        of a sample from a single environment\n",
    "        \"\"\"\n",
    "\n",
    "        if len(pa) > 0:\n",
    "            return self._endogenous_score(x, pa)\n",
    "        else:\n",
    "            return self._exogenous_score(x)\n",
    "\n",
    "    def _endogenous_score(self, x, pa):\n",
    "        pa = list(pa)\n",
    "        x_data = np.squeeze(data[:, x])\n",
    "        le_ = LabelEncoder()\n",
    "        pa_data = np.squeeze(np.array([\"\".join(str(row)) for row in self.data[:, pa]]))\n",
    "        pa_data = le_.fit_transform(pa_data)\n",
    "\n",
    "        # Compute log-likelihood\n",
    "        f = map_to_majority(pa_data, x_data)\n",
    "        f = update_regression(pa_data, x_data, f)\n",
    "        likelihood = cause_effect_negloglikelihood(pa_data, x_data, f)\n",
    "        # Compute penalty term\n",
    "        nml_term = (len(set(pa_data)) - 1) * log2(len(set(x_data)))\n",
    "        score = likelihood + nml_term\n",
    "        return score\n",
    "\n",
    "    def _exogenous_score(self, x):\n",
    "        # Compute log-likelihood\n",
    "        likelihood = 0\n",
    "        x_data = np.squeeze(self.data[:, x])\n",
    "        x_freqs = Counter(x_data)\n",
    "        for freq in x_freqs.values():\n",
    "            likelihood += freq * (log2(self.n) - log2(freq))\n",
    "        return likelihood\n",
    "\n",
    "\n",
    "def log2(n):\n",
    "    return math.log(n or 1, 2)\n",
    "\n",
    "def stratify(X, Y):\n",
    "    \"\"\"Stratifies Y based on unique values of X.\n",
    "    Args:\n",
    "        X (sequence): sequence of discrete outcomes\n",
    "        Y (sequence): sequence of discrete outcomes\n",
    "    Returns:\n",
    "        (dict): list of Y-values for a X-value\n",
    "    \"\"\"\n",
    "    Y_grps = defaultdict(list)\n",
    "    for i, x in enumerate(X):\n",
    "        Y_grps[x].append(Y[i])\n",
    "    return Y_grps\n",
    "\n",
    "def map_to_majority(X, Y):\n",
    "    \"\"\"Creates a function that maps x to most frequent y.\n",
    "    Args:\n",
    "        X (sequence): sequence of discrete outcomes\n",
    "        Y (sequence): sequence of discrete outcomes\n",
    "    Returns:\n",
    "        (dict): map from Y-values to frequently co-occuring X-values\n",
    "    \"\"\"\n",
    "    f = dict()\n",
    "    Y_grps = stratify(X, Y)\n",
    "    for x, Ys in Y_grps.items():\n",
    "        frequent_y, _ = Counter(Ys).most_common(1)[0]\n",
    "        f[x] = frequent_y\n",
    "    return f\n",
    "\n",
    "def update_regression(C, E, f, max_niterations=100):\n",
    "    \"\"\"Update discrete regression with C as a cause variable and E as a effect variable\n",
    "    so that it maximize likelihood\n",
    "    Args\n",
    "    -------\n",
    "        C (sequence): sequence of discrete outcomes\n",
    "        E (sequence): sequence of discrete outcomes\n",
    "        f (dict): map from C to Y\n",
    "    \"\"\"\n",
    "    supp_C = list(set(C))\n",
    "    supp_E = list(set(E))\n",
    "    mod_E = len(supp_E)\n",
    "    n = len(C)\n",
    "\n",
    "    # N_E's log likelihood\n",
    "    # optimize f to minimize N_E's log likelihood\n",
    "    cur_likelihood = 0\n",
    "    res = [(e - f[c]) % mod_E for c, e in zip(C, E)]\n",
    "    for freq in Counter(res).values():\n",
    "        cur_likelihood += freq * (log2(n) - log2(freq))\n",
    "\n",
    "    j = 0\n",
    "    minimized = True\n",
    "    while j < max_niterations and minimized:\n",
    "        minimized = False\n",
    "\n",
    "        for c_to_map in supp_C:\n",
    "            best_likelihood = sys.float_info.max\n",
    "            best_e = None\n",
    "\n",
    "            for cand_e in supp_E:\n",
    "                if cand_e == f[c_to_map]:\n",
    "                    continue\n",
    "\n",
    "                f_ = f.copy()\n",
    "                f_[c_to_map] = cand_e\n",
    "\n",
    "\n",
    "                neglikelihood = 0\n",
    "                res = [(e - f_[c]) % mod_E for c, e in zip(C, E)]\n",
    "                for freq in Counter(res).values():\n",
    "                    neglikelihood += freq * (log2(n) - log2(freq))\n",
    "\n",
    "                if neglikelihood < best_likelihood:\n",
    "                    best_likelihood = neglikelihood\n",
    "                    best_e = cand_e\n",
    "\n",
    "            if best_likelihood < cur_likelihood:\n",
    "                cur_likelihood = best_likelihood\n",
    "                f[c_to_map] = best_e\n",
    "                minimized = True\n",
    "        j += 1\n",
    "\n",
    "    return f\n",
    "\n",
    "def cause_effect_negloglikelihood(C, E, func):\n",
    "    \"\"\"Compute negative log likelihood for effect given finction func: C -> E\n",
    "    Model type : C→E\n",
    "    Args\n",
    "    -------\n",
    "        C (sequence): sequence of discrete outcomes (Cause)\n",
    "        E (sequence): sequence of discrete outcomes (Effect)\n",
    "        func (dict): map from C-value to E-value\n",
    "    Returns\n",
    "    -------\n",
    "        (float): maximum log likelihood\n",
    "    \"\"\"\n",
    "    mod_C = len(set(C))\n",
    "    mod_E = len(set(E))\n",
    "    supp_C = list(set(C))\n",
    "    supp_E = list(set(E))\n",
    "\n",
    "    C_freqs = Counter(C)\n",
    "    n = len(C)\n",
    "\n",
    "    pair_cnt = defaultdict(lambda: defaultdict(int))\n",
    "    for c, e in zip(C, E):\n",
    "        pair_cnt[c][e] += 1\n",
    "\n",
    "    loglikelihood = 0\n",
    "\n",
    "\n",
    "    for e_E in supp_E:\n",
    "        freq = 0\n",
    "        for e in supp_E:\n",
    "            for c in supp_C:\n",
    "                if (func[c] + e_E) % mod_E == e:\n",
    "                    freq += pair_cnt[c][e]\n",
    "        loglikelihood += freq * (log2(n) - log2(freq))\n",
    "\n",
    "    return loglikelihood\n"
   ]
  },
  {
   "cell_type": "code",
   "execution_count": 2,
   "id": "cf4ab8f2",
   "metadata": {},
   "outputs": [],
   "source": [
    "np.random.seed(seed=2022)\n",
    "\n",
    "\n",
    "# generate X from multinomial disctibution\n",
    "p_nums = [np.random.random() for _ in range(5)]\n",
    "p_vals = [v / sum(p_nums) for v in p_nums]\n",
    "x = np.random.choice(a=range(5), p=p_vals, size=10000)\n",
    "\n",
    "p_nums = [np.random.random() for _ in range(6)]\n",
    "p_vals = [v / sum(p_nums) for v in p_nums]\n",
    "ey = np.random.choice(a=range(6), p=p_vals, size=10000)\n",
    "y = [(x + e) % 6 for x, e in zip(x, ey)]\n",
    "\n",
    "p_nums = [np.random.random() for _ in range(6)]\n",
    "p_vals = [v / sum(p_nums) for v in p_nums]\n",
    "ez = np.random.choice(a=range(6), p=p_vals, size=10000)\n",
    "z = [(x + e) % 6 for x, e in zip(x, ez)]\n"
   ]
  },
  {
   "cell_type": "code",
   "execution_count": 4,
   "id": "1230d0bd",
   "metadata": {},
   "outputs": [
    {
     "data": {
      "text/plain": [
       "61919.66182416845"
      ]
     },
     "execution_count": 4,
     "metadata": {},
     "output_type": "execute_result"
    }
   ],
   "source": [
    "data = np.stack([x, y, z], axis=-1)\n",
    "cache = NmlPen(data)\n",
    "A=np.array([[0, 1, 1],[0, 0, 0], [0, 0, 0]])\n",
    "cache.full_score(A)"
   ]
  },
  {
   "cell_type": "code",
   "execution_count": 2,
   "id": "11ec2af6",
   "metadata": {},
   "outputs": [],
   "source": [
    "np.random.seed(seed=2022)\n",
    "\n",
    "\n",
    "# generate X from multinomial disctibution\n",
    "p_nums = [np.random.random() for _ in range(5)]\n",
    "p_vals = [v / sum(p_nums) for v in p_nums]\n",
    "x = np.random.choice(a=range(5), p=p_vals, size=10000)\n",
    "\n",
    "p_nums = [np.random.random() for _ in range(6)]\n",
    "p_vals = [v / sum(p_nums) for v in p_nums]\n",
    "y = np.random.choice(a=range(6), p=p_vals, size=10000)\n",
    "\n",
    "\n",
    "p_nums = [np.random.random() for _ in range(6)]\n",
    "p_vals = [v / sum(p_nums) for v in p_nums]\n",
    "ez = np.random.choice(a=range(6), p=p_vals, size=10000)\n",
    "z = [(x + y + e) % 6 for x, y, e in zip(x, y, ez)]\n"
   ]
  },
  {
   "cell_type": "code",
   "execution_count": 3,
   "id": "7e7362bc",
   "metadata": {},
   "outputs": [
    {
     "data": {
      "text/plain": [
       "61966.95529071564"
      ]
     },
     "execution_count": 3,
     "metadata": {},
     "output_type": "execute_result"
    }
   ],
   "source": [
    "data = np.stack([x, y, z], axis=-1)\n",
    "cache = NmlPen(data)\n",
    "A=np.array([[0, 0, 1],[0, 0, 1], [0, 0, 0]])\n",
    "cache.full_score(A)"
   ]
  },
  {
   "cell_type": "code",
   "execution_count": 32,
   "id": "79f97f55",
   "metadata": {},
   "outputs": [
    {
     "data": {
      "text/plain": [
       "Counter({0: 1304,\n",
       "         4: 1288,\n",
       "         5: 1221,\n",
       "         2: 1252,\n",
       "         3: 1251,\n",
       "         6: 1241,\n",
       "         7: 1270,\n",
       "         1: 1173})"
      ]
     },
     "execution_count": 32,
     "metadata": {},
     "output_type": "execute_result"
    }
   ],
   "source": [
    "Counter(x_data)"
   ]
  },
  {
   "cell_type": "code",
   "execution_count": 42,
   "id": "9a883a03",
   "metadata": {},
   "outputs": [
    {
     "name": "stdout",
     "output_type": "stream",
     "text": [
      "23217.375070001133\n"
     ]
    }
   ],
   "source": [
    "n, p = data.shape\n",
    "\n",
    "x = [0]\n",
    "\n",
    "x_data = np.squeeze(data[:, x])\n",
    "likelihood = 0\n",
    "for freq in Counter(x_data).values():\n",
    "    likelihood += freq * (log2(n) - log2(freq))\n",
    "print(likelihood)"
   ]
  },
  {
   "cell_type": "code",
   "execution_count": 39,
   "id": "6f4f14fe",
   "metadata": {},
   "outputs": [
    {
     "data": {
      "text/plain": [
       "83203.15689323808"
      ]
     },
     "execution_count": 39,
     "metadata": {},
     "output_type": "execute_result"
    }
   ],
   "source": [
    "23217.375070001133 + 29993.253512198036 + 29992.528311038903"
   ]
  },
  {
   "cell_type": "code",
   "execution_count": null,
   "id": "29790493",
   "metadata": {},
   "outputs": [],
   "source": []
  }
 ],
 "metadata": {
  "kernelspec": {
   "display_name": "Python 3 (ipykernel)",
   "language": "python",
   "name": "python3"
  },
  "language_info": {
   "codemirror_mode": {
    "name": "ipython",
    "version": 3
   },
   "file_extension": ".py",
   "mimetype": "text/x-python",
   "name": "python",
   "nbconvert_exporter": "python",
   "pygments_lexer": "ipython3",
   "version": "3.9.7"
  }
 },
 "nbformat": 4,
 "nbformat_minor": 5
}
